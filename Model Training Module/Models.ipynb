{
 "cells": [
  {
   "cell_type": "code",
   "execution_count": 2,
   "metadata": {},
   "outputs": [],
   "source": [
    "# Main Modules\n",
    "import pickle\n",
    "import numpy as np\n",
    "from sklearn.model_selection import train_test_split\n",
    "from sklearn.metrics import accuracy_score\n",
    "\n",
    "# SVM\n",
    "from sklearn.svm import SVC\n",
    "\n",
    "# Random Forest\n",
    "from sklearn.ensemble import RandomForestClassifier\n",
    "\n",
    "# Naive Bayes\n",
    "from sklearn.naive_bayes import GaussianNB\n",
    "\n",
    "# Decision Tree\n",
    "from sklearn.tree import DecisionTreeClassifier\n"
   ]
  },
  {
   "cell_type": "code",
   "execution_count": null,
   "metadata": {},
   "outputs": [],
   "source": [
    "def SVM(featureArr, labelArr):\n",
    "    \n",
    "\t\t# Receive the feature array and label array\n",
    "\t\tX = np.array(featureArr)\n",
    "\t\ty = np.array(labelArr)\n",
    "\n",
    "\t\t# Split the dataset into training and testing sets\n",
    "\t\tX_train, X_test, y_train, y_test = train_test_split(X, y, test_size=0.2, random_state=42)\n",
    "\n",
    "\t\t# Train the SVM classifier\n",
    "\t\tsvm_classifier = SVC(kernel='linear', C=1.0)\n",
    "\t\tsvm_classifier.fit(X_train, y_train)\n",
    "\n",
    "\t\t# Save the model as a pickle file\n",
    "\t\tpickle.dump(svm_classifier, open('svm_classifier.pkl', 'wb'))\n",
    "\n",
    "\t\t# Evaluate the classifier\n",
    "\t\t# y_pred = svm_classifier.predict(X_test)\n",
    "\t\t# accuracy = accuracy_score(y_test, y_pred)\n",
    "\t\t# print(f'Accuracy: {accuracy}')"
   ]
  },
  {
   "cell_type": "code",
   "execution_count": null,
   "metadata": {},
   "outputs": [],
   "source": [
    "def RandomForest(featureArr, labelArr):\n",
    "\t\t# Receive the feature array and label array\n",
    "\t\tX = np.array(featureArr)\n",
    "\t\ty = np.array(labelArr)\n",
    "\n",
    "\t\t# Split the dataset into training and testing sets\n",
    "\t\tX_train, X_test, y_train, y_test = train_test_split(X, y, test_size=0.2, random_state=42)\n",
    "\n",
    "\t\t# Train the Random Forest classifier\n",
    "\t\trf_classifier = RandomForestClassifier(n_estimators=100, max_depth=10, max_features='sqrt')\n",
    "\t\trf_classifier.fit(X_train, y_train)\n",
    "\n",
    "\t\t# Save the model as a pickle file\n",
    "\t\tpickle.dump(rf_classifier, open('rf_classifier.pkl', 'wb'))\n",
    "\n",
    "\t\t# Evaluate the classifier\n",
    "\t\t# y_pred = rf_classifier.predict(X_test)\n",
    "\t\t# accuracy = accuracy_score(y_test, y_pred)\n",
    "\t\t# print(f'Accuracy: {accuracy}')"
   ]
  },
  {
   "cell_type": "code",
   "execution_count": null,
   "metadata": {},
   "outputs": [],
   "source": [
    "def NaiveBayes(featureArr, labelArr):\n",
    "\t\t# Receive the feature array and label array\n",
    "\t\tX = np.array(featureArr)\n",
    "\t\ty = np.array(labelArr)\n",
    "\n",
    "\t\t# Split the dataset into training and testing sets\n",
    "\t\tX_train, X_test, y_train, y_test = train_test_split(X, y, test_size=0.2, random_state=42)\n",
    "\n",
    "\t\t# Train the Naive Bayes classifier\n",
    "\t\tnb_classifier = GaussianNB()\n",
    "\t\tnb_classifier.fit(X_train, y_train)\n",
    "\n",
    "\t\t# Save the model as a pickle file\n",
    "\t\tpickle.dump(nb_classifier, open('nb_classifier.pkl', 'wb'))\n",
    "\t\t\n",
    "\t\t# Evaluate the classifier\n",
    "\t\t# y_pred = nb_classifier.predict(X_test)\n",
    "\t\t# accuracy = accuracy_score(y_test, y_pred)\n",
    "\t\t# print(f'Accuracy: {accuracy}')"
   ]
  },
  {
   "cell_type": "code",
   "execution_count": null,
   "metadata": {},
   "outputs": [],
   "source": [
    "def DecisionTree(featureArr, labelArr):\n",
    "\t\t# Receive the feature array and label array\n",
    "\t\tX = np.array(featureArr)\n",
    "\t\ty = np.array(labelArr)\n",
    "\n",
    "\t\t# Split the dataset into training and testing sets\n",
    "\t\tX_train, X_test, y_train, y_test = train_test_split(X, y, test_size=0.2, random_state=42)\n",
    "\n",
    "\t\t# Train the Decision Tree classifier\n",
    "\t\tdt_classifier = DecisionTreeClassifier(max_depth=5, min_samples_leaf=10)\n",
    "\t\tdt_classifier.fit(X_train, y_train)\n",
    "\n",
    "\t\t# Save the model as a pickle file\n",
    "\t\tpickle.dump(dt_classifier, open('dt_classifier.pkl', 'wb'))\n",
    "\n",
    "\t\t# Evaluate the classifier\n",
    "\t\t# y_pred = dt_classifier.predict(X_test)\n",
    "\t\t# accuracy = accuracy_score(y_test, y_pred)\n",
    "\t\t# print(f'Accuracy: {accuracy}')"
   ]
  }
 ],
 "metadata": {
  "kernelspec": {
   "display_name": "Python 3",
   "language": "python",
   "name": "python3"
  },
  "language_info": {
   "codemirror_mode": {
    "name": "ipython",
    "version": 3
   },
   "file_extension": ".py",
   "mimetype": "text/x-python",
   "name": "python",
   "nbconvert_exporter": "python",
   "pygments_lexer": "ipython3",
   "version": "3.10.7"
  },
  "orig_nbformat": 4
 },
 "nbformat": 4,
 "nbformat_minor": 2
}
