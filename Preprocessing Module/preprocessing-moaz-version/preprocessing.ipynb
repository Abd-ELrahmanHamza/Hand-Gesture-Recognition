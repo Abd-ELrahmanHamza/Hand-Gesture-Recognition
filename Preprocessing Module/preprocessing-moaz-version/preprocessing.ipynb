{
 "cells": [
  {
   "cell_type": "code",
   "execution_count": null,
   "id": "401ebb93",
   "metadata": {},
   "outputs": [],
   "source": [
    "from commonfunctions import *\n",
    "import os\n",
    "import matplotlib.image as mpimg\n",
    "import cv2 as cv\n",
    "\n",
    "%matplotlib inline\n",
    "%load_ext autoreload\n",
    "%autoreload 2"
   ]
  },
  {
   "cell_type": "code",
   "execution_count": null,
   "id": "97456d29",
   "metadata": {
    "scrolled": true
   },
   "outputs": [],
   "source": [
    "for i in range(6):\n",
    "    for j in os.listdir(\"../../../dataset_sample/men/\" + str(i)):\n",
    "        if j.endswith(\".ini\"):\n",
    "            continue\n",
    "        imageRead = mpimg.imread(\"../../../dataset_sample/men/\" + str(i) + \"/\" + j).astype(np.uint8)[:,:,:3]\n",
    "        show_images([imageRead], [\"After Reading\"])\n",
    "        image = (rgb2gray(imageRead)*255).astype(\"uint8\")\n",
    "        show_images([image], [\"After converting to grayscale\"])\n",
    "        image = cv.threshold(image, 0, 255, cv.THRESH_BINARY | cv.THRESH_OTSU)[1]\n",
    "        show_images([image], [\"Binary\"])\n",
    "\n",
    "for i in range(6):\n",
    "    for j in os.listdir(\"../../../dataset_sample/Women/\" + str(i)):\n",
    "        if j.endswith(\".ini\"):\n",
    "            continue\n",
    "        imageRead = mpimg.imread(\"../../../dataset_sample/Women/\" + str(i) + \"/\" + j).astype(np.uint8)[:,:,:3]\n",
    "        show_images([imageRead], [\"After Reading\"])\n",
    "        image = (rgb2gray(imageRead)*255).astype(\"uint8\")\n",
    "        show_images([image], [\"After converting to grayscale\"])\n",
    "        image = cv.threshold(image, 0, 255, cv.THRESH_BINARY | cv.THRESH_OTSU)[1]\n",
    "        show_images([image], [\"Binary\"])"
   ]
  }
 ],
 "metadata": {
  "kernelspec": {
   "display_name": "Python 3",
   "language": "python",
   "name": "python3"
  },
  "language_info": {
   "codemirror_mode": {
    "name": "ipython",
    "version": 3
   },
   "file_extension": ".py",
   "mimetype": "text/x-python",
   "name": "python",
   "nbconvert_exporter": "python",
   "pygments_lexer": "ipython3",
   "version": "3.8.8"
  }
 },
 "nbformat": 4,
 "nbformat_minor": 5
}
