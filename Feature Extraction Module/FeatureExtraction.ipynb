{
 "cells": [
  {
   "cell_type": "code",
   "execution_count": 10,
   "metadata": {},
   "outputs": [],
   "source": [
    "\n",
    "import cv2\n",
    "from skimage.feature import hog\n",
    "import numpy as np\n",
    "from skimage import data, exposure\n",
    "from skimage.feature import local_binary_pattern"
   ]
  },
  {
   "cell_type": "code",
   "execution_count": 11,
   "metadata": {},
   "outputs": [],
   "source": [
    "def SIFT(image):\n",
    "    # assume this image to be gray scale\n",
    "    # Create a SIFT object\n",
    "    sift = cv2.xfeatures2d.SIFT_create()\n",
    "\n",
    "    # Detect keypoints and compute descriptors\n",
    "    keypoints, descriptors = sift.detectAndCompute(image, None)\n",
    "\n",
    "    # Draw keypoints on the image\n",
    "    # img = cv2.drawKeypoints(image, keypoints, img)\n",
    "    return keypoints, descriptors"
   ]
  },
  {
   "cell_type": "code",
   "execution_count": 12,
   "metadata": {},
   "outputs": [],
   "source": [
    "def SURF(image):\n",
    "    # assume this image to be gray scale\n",
    "    # Create a SURF object\n",
    "    surf = cv2.xfeatures2d.SURF_create()\n",
    "\n",
    "    # Detect keypoints and compute descriptors\n",
    "    keypoints, descriptors = surf.detectAndCompute(image, None)\n",
    "\n",
    "    # Draw keypoints on the image\n",
    "    # img = cv2.drawKeypoints(image, keypoints, img)\n",
    "    return keypoints, descriptors"
   ]
  },
  {
   "cell_type": "code",
   "execution_count": 13,
   "metadata": {},
   "outputs": [],
   "source": [
    "def HOG(image, orientations = 9, pixels_per_cell = (8, 8), cells_per_block = (3, 3), visualize = True, normalize = True):\n",
    "    # Define HOG parameters\n",
    "\n",
    "    # Calculate the HOG features\n",
    "    hog_features, hog_image = hog(image, orientations=orientations, pixels_per_cell=pixels_per_cell, cells_per_block=cells_per_block, visualize=visualize, normalize=normalize)\n",
    "\n",
    "    return hog_features\n",
    "    # # Rescale the image for better visualization\n",
    "    # hog_image_rescaled = exposure.rescale_intensity(hog_image, in_range=(0, 10))\n",
    "\n",
    "    # # Show the original image and HOG features\n",
    "    # fig, (ax1, ax2) = plt.subplots(1, 2, figsize=(8, 4), sharex=True, sharey=True)"
   ]
  },
  {
   "cell_type": "code",
   "execution_count": 14,
   "metadata": {},
   "outputs": [],
   "source": [
    "def LBP(image, radius = 1, method = 'uniform'):\n",
    "    # Define LBP parameters\n",
    "    n_points = 8 * radius\n",
    "    \n",
    "    # Calculate the LBP features\n",
    "    lbp = local_binary_pattern(image, n_points, radius, method)\n",
    "\n",
    "    # # Calculate the histogram of LBP features\n",
    "    # n_bins = int(lbp.max() + 1)\n",
    "    # hist, _ = np.histogram(lbp, density=True, bins=n_bins, range=(0, n_bins))\n",
    "\n",
    "    # # Normalize the histogram\n",
    "    # hist /= hist.sum()\n",
    "    return lbp"
   ]
  }
 ],
 "metadata": {
  "kernelspec": {
   "display_name": "Python 3",
   "language": "python",
   "name": "python3"
  },
  "language_info": {
   "codemirror_mode": {
    "name": "ipython",
    "version": 3
   },
   "file_extension": ".py",
   "mimetype": "text/x-python",
   "name": "python",
   "nbconvert_exporter": "python",
   "pygments_lexer": "ipython3",
   "version": "3.10.11"
  },
  "orig_nbformat": 4
 },
 "nbformat": 4,
 "nbformat_minor": 2
}
