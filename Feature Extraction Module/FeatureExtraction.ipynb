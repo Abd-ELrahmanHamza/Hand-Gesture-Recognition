{
 "cells": [
  {
   "cell_type": "code",
   "execution_count": 1,
   "metadata": {},
   "outputs": [],
   "source": [
    "import cv2\n",
    "import numpy as np\n",
    "from skimage.feature import local_binary_pattern , hog"
   ]
  },
  {
   "cell_type": "code",
   "execution_count": 2,
   "metadata": {},
   "outputs": [],
   "source": [
    "def HOG(image, orientations = 9, pixels_per_cell = (8, 8), cells_per_block = (3, 3)):\n",
    "    # Calculate the HOG features\n",
    "    hog_features = hog(image, orientations=orientations, pixels_per_cell=pixels_per_cell, cells_per_block=cells_per_block)\n",
    "    \n",
    "    # Pad the feature vector with zeros to make sure they all have the same length\n",
    "    max_size = hog_features.shape[0]\n",
    "    hog_features = np.pad(hog_features, (0, max_size - hog_features.shape[0]), mode='constant')\n",
    "    \n",
    "    hog_features = np.ravel(hog_features)\n",
    "\n",
    "    return hog_features"
   ]
  },
  {
   "cell_type": "code",
   "execution_count": 3,
   "metadata": {},
   "outputs": [],
   "source": [
    "def LBP(image, radius = 1, method = 'uniform'):\n",
    "    # Define LBP parameters\n",
    "    n_points = 8 * radius\n",
    "    \n",
    "    # Calculate the LBP features\n",
    "    lbp = local_binary_pattern(image, n_points, radius, method)\n",
    "\n",
    "    histogram, _ = np.histogram(lbp, bins=np.arange(0, n_points + 3), range=(0, n_points + 2))\n",
    "\n",
    "    # Normalize the histogram\n",
    "    histogram = histogram.astype(\"float\")\n",
    "    histogram /= (histogram.sum() + 1e-7)\n",
    "\n",
    "    # The resulting histogram is the feature vector for the input image\n",
    "    return histogram"
   ]
  },
  {
   "cell_type": "code",
   "execution_count": 1,
   "metadata": {},
   "outputs": [
    {
     "name": "stdout",
     "output_type": "stream",
     "text": [
      "Collecting mahotas\n",
      "  Using cached mahotas-1.4.13-cp310-cp310-win_amd64.whl (1.7 MB)\n",
      "Requirement already satisfied: numpy in c:\\users\\elwae\\appdata\\local\\packages\\pythonsoftwarefoundation.python.3.10_qbz5n2kfra8p0\\localcache\\local-packages\\python310\\site-packages (from mahotas) (1.24.2)\n",
      "Installing collected packages: mahotas\n",
      "Successfully installed mahotas-1.4.13\n"
     ]
    },
    {
     "name": "stderr",
     "output_type": "stream",
     "text": [
      "\n",
      "[notice] A new release of pip is available: 23.0.1 -> 23.1.2\n",
      "[notice] To update, run: C:\\Users\\elwae\\AppData\\Local\\Microsoft\\WindowsApps\\PythonSoftwareFoundation.Python.3.10_qbz5n2kfra8p0\\python.exe -m pip install --upgrade pip\n"
     ]
    }
   ],
   "source": []
  },
  {
   "cell_type": "code",
   "execution_count": 4,
   "metadata": {},
   "outputs": [],
   "source": [
    "def SIFT(image):\n",
    "    # assume this image to be gray scale\n",
    "    # Create a SIFT object\n",
    "    sift = cv2.xfeatures2d.SIFT_create()\n",
    "\n",
    "    # Detect keypoints and compute descriptors\n",
    "    keypoints, descriptors = sift.detectAndCompute(image, None)\n",
    "\n",
    "    # Initialize empty feature list\n",
    "    features = []\n",
    "\n",
    "    # Loop through each keypoint and descriptor pair\n",
    "    for i in range(len(keypoints)):\n",
    "        # Get current keypoint and descriptor\n",
    "        kp = keypoints[i]\n",
    "        desc = descriptors[i]\n",
    "\n",
    "        # Convert keypoint to feature vector\n",
    "        feature = np.concatenate((kp.pt, kp.size, kp.angle, kp.response, kp.octave, desc))\n",
    "        \n",
    "        # Append feature to feature list\n",
    "        features.append(feature)\n",
    "        \n",
    "    # Convert features list to NumPy array\n",
    "    features = np.array(features)\n",
    "    return features"
   ]
  },
  {
   "cell_type": "code",
   "execution_count": 5,
   "metadata": {},
   "outputs": [],
   "source": [
    "def SURF(image):\n",
    "    # assume this image to be gray scale\n",
    "    # Create a SURF object\n",
    "    surf = cv2.xfeatures2d.SURF_create()\n",
    "\n",
    "    # Detect keypoints and compute descriptors\n",
    "    keypoints, descriptors = surf.detectAndCompute(image, None)\n",
    "\n",
    "    # Initialize empty feature list\n",
    "    features = []\n",
    "\n",
    "    # Loop through each keypoint and descriptor pair\n",
    "    for i in range(len(keypoints)):\n",
    "        # Get current keypoint and descriptor\n",
    "        kp = keypoints[i]\n",
    "        desc = descriptors[i]\n",
    "\n",
    "        # Convert keypoint to feature vector\n",
    "        feature = np.concatenate((kp.pt, kp.size, kp.angle, kp.response, kp.octave, desc))\n",
    "        \n",
    "        # Append feature to feature list\n",
    "        features.append(feature)\n",
    "        \n",
    "    # Convert features list to NumPy array\n",
    "    features = np.array(features)\n",
    "    return features"
   ]
  }
 ],
 "metadata": {
  "kernelspec": {
   "display_name": "Python 3",
   "language": "python",
   "name": "python3"
  },
  "language_info": {
   "codemirror_mode": {
    "name": "ipython",
    "version": 3
   },
   "file_extension": ".py",
   "mimetype": "text/x-python",
   "name": "python",
   "nbconvert_exporter": "python",
   "pygments_lexer": "ipython3",
   "version": "3.10.11"
  },
  "orig_nbformat": 4
 },
 "nbformat": 4,
 "nbformat_minor": 2
}
