{
 "cells": [
  {
   "cell_type": "code",
   "execution_count": 6,
   "metadata": {},
   "outputs": [],
   "source": [
    "# Imports\n",
    "import numpy as np\n",
    "import cv2\n",
    "import os\n",
    "import sys\n",
    "sys.path.append(\"Preprocessing Module\")\n",
    "from preprocessing import preprocess\n",
    "sys.path.append(\"Model Training Module\")\n",
    "from models import get_model\n",
    "sys.path.append(\"Feature Extraction Module\")\n",
    "from features import get_feature"
   ]
  },
  {
   "cell_type": "code",
   "execution_count": 5,
   "metadata": {},
   "outputs": [],
   "source": [
    "# =========================================================================\n",
    "# Get the environment variables\n",
    "# =========================================================================\n",
    "# Possible values [0: \"HOG\", 1: \"LBP\", 2: \"SIFT\", 3: \"SURF\"]\n",
    "FEATURE_METHOD = os.environ.get('FEATURE_METHOD')\n",
    "\n",
    "# Possible values [0: \"SVM\", 1: \"RandomForest\", 2: \"NaiveBayes\", 3: \"DecisionTree\"]\n",
    "MODEL_METHOD = os.environ.get('MODEL_METHOD')\n",
    "# =========================================================================\n",
    "\n",
    "feature_arr = []\n",
    "label_arr = []\n",
    "\n",
    "# get all the image folder paths\n",
    "image_paths = os.listdir(\"./Dataset/\")\n",
    "\n",
    "for path in image_paths:\n",
    "\t# get all the image names\n",
    "\timages = os.listdir(f\"./Dataset/{path}\")\n",
    "\t\n",
    "\t# iterate over the image names, get the label\n",
    "\tfor image in images:\n",
    "\t\timage_path = f\"./Dataset/{path}/{image}\"\n",
    "\t\timage = cv2.imread(image_path)\n",
    "\n",
    "\t\t# Preprocessing phase\n",
    "\t\timage = preprocess(image)\n",
    "\n",
    "\t\t# Feature extraction phase\n",
    "\t\tfeature = get_feature(FEATURE_METHOD, image)\n",
    "\n",
    "\t\t# update the data and labels\n",
    "\t\tfeature_arr.append(feature)\n",
    "\t\tlabel_arr.append(path)\n",
    "\n",
    "# Training phase\n",
    "get_model(MODEL_METHOD, feature_arr, label_arr)"
   ]
  }
 ],
 "metadata": {
  "kernelspec": {
   "display_name": "Python 3",
   "language": "python",
   "name": "python3"
  },
  "language_info": {
   "codemirror_mode": {
    "name": "ipython",
    "version": 3
   },
   "file_extension": ".py",
   "mimetype": "text/x-python",
   "name": "python",
   "nbconvert_exporter": "python",
   "pygments_lexer": "ipython3",
   "version": "3.10.7"
  },
  "orig_nbformat": 4
 },
 "nbformat": 4,
 "nbformat_minor": 2
}
