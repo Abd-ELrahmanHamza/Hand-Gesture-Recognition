{
 "cells": [
  {
   "cell_type": "code",
   "execution_count": 1,
   "metadata": {},
   "outputs": [],
   "source": [
    "# Imports\n",
    "import numpy as np\n",
    "import cv2\n",
    "import os"
   ]
  },
  {
   "cell_type": "code",
   "execution_count": 5,
   "metadata": {},
   "outputs": [],
   "source": [
    "featureArr = []\n",
    "labelArr = []\n",
    "\n",
    "# get all the image folder paths\n",
    "imagePaths = os.listdir(\"./Dataset/\")\n",
    "\n",
    "for path in imagePaths:\n",
    "\t# get all the image names\n",
    "\timages = os.listdir(f\"./Dataset/{path}\")\n",
    "\t\n",
    "\t# iterate over the image names, get the label\n",
    "\tfor image in images:\n",
    "\t\timagePath = f\"./Dataset/{path}/{image}\"\n",
    "\t\timage = cv2.imread(imagePath)\n",
    "\n",
    "\t\t# Preprocessing phase\n",
    "\t\t# image = Preprocessing(image)\n",
    "\n",
    "\t\t# Feature extraction phase\n",
    "\t\t# feature = FeatureExtraction(image)\n",
    "\n",
    "\t\t# update the data and labels\n",
    "\t\tfeatureArr.append(feature)\n",
    "\t\tlabelArr.append(path)\n",
    "\n",
    "# Training phase\n",
    "# Train(featureArr, labelArr)"
   ]
  }
 ],
 "metadata": {
  "kernelspec": {
   "display_name": "Python 3",
   "language": "python",
   "name": "python3"
  },
  "language_info": {
   "codemirror_mode": {
    "name": "ipython",
    "version": 3
   },
   "file_extension": ".py",
   "mimetype": "text/x-python",
   "name": "python",
   "nbconvert_exporter": "python",
   "pygments_lexer": "ipython3",
   "version": "3.10.7"
  },
  "orig_nbformat": 4
 },
 "nbformat": 4,
 "nbformat_minor": 2
}
